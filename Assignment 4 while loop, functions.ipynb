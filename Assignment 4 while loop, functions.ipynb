{
 "cells": [
  {
   "cell_type": "code",
   "execution_count": 1,
   "id": "34addb3c-ccda-48b8-8223-c25cf3b9f8f0",
   "metadata": {},
   "outputs": [],
   "source": [
    "#ANS:1"
   ]
  },
  {
   "cell_type": "code",
   "execution_count": 4,
   "id": "191e7840-9915-4bf2-b6e3-900b284ed857",
   "metadata": {},
   "outputs": [
    {
     "data": {
      "text/plain": [
       "[1, 3, 5, 7, 9, 11, 13, 15, 17, 19, 21, 23]"
      ]
     },
     "execution_count": 4,
     "metadata": {},
     "output_type": "execute_result"
    }
   ],
   "source": [
    "#Create a function to return a list of odd numbers in the range of 1 to 25.\n",
    "def listOfOdd():\n",
    "    \"\"\"a function to return a list of odd numbers in the range of 1 to 25.\"\"\"\n",
    "    l1=[]\n",
    "    for i in range(1,25):\n",
    "        if i%2 != 0:\n",
    "            l1.append(i)\n",
    "    return l1\n",
    "listOfOdd()"
   ]
  },
  {
   "cell_type": "code",
   "execution_count": 5,
   "id": "0d29a497-2723-442d-9372-b60ad10b929b",
   "metadata": {},
   "outputs": [],
   "source": [
    "#ANS:2"
   ]
  },
  {
   "cell_type": "code",
   "execution_count": 6,
   "id": "0d907698-6961-4a25-8aa8-918de4f4e41e",
   "metadata": {},
   "outputs": [
    {
     "name": "stdout",
     "output_type": "stream",
     "text": [
      "The args[0] having: Hi\n",
      "The args[1] having: There\n",
      "The args[2] having: This is test\n",
      "The args[3] having: 1\n"
     ]
    }
   ],
   "source": [
    "#a function for *args to demonstrate its use.\n",
    "def demo1(*args):\n",
    "    \"\"\"a function for *args to demonstrate its use.\"\"\"\n",
    "    index=0\n",
    "    for i in args:\n",
    "        print(\"The args[\"+str(index)+\"] having:\",i)\n",
    "        index+=1\n",
    "demo1(\"Hi\", \"There\", \"This is test\", 1)"
   ]
  },
  {
   "cell_type": "code",
   "execution_count": 23,
   "id": "e7b65ddb-19d6-40f8-83a1-3d619fe9d423",
   "metadata": {},
   "outputs": [
    {
     "name": "stdout",
     "output_type": "stream",
     "text": [
      "The kwargs[0] having key 'FirstName' and value 'Saurabh'\n",
      "The kwargs[1] having key 'LastName' and value 'Kumar'\n",
      "The kwargs[2] having key 'Location' and value 'Delhi'\n",
      "The kwargs[3] having key 'CourseEnrolled' and value 'Data Science Master'\n"
     ]
    }
   ],
   "source": [
    "#a function for kwargs to demonstrate its use.\n",
    "def demo2(**kwargs):\n",
    "    \"\"\"a function for kwargs to demonstrate its use.\"\"\"\n",
    "    index=0\n",
    "    for key, value in kwargs.items():\n",
    "        print(\"The kwargs[\"+str(index)+\"] having key '\"+str(key)+ \"' and value '\"+str(value)+\"'\")\n",
    "        index+=1\n",
    "demo2(FirstName= \"Saurabh\", LastName= \"Kumar\", Location= \"Delhi\", CourseEnrolled= \"Data Science Master\")"
   ]
  },
  {
   "cell_type": "code",
   "execution_count": 9,
   "id": "c760cd67-1b32-4ff2-adb6-8d2526a99116",
   "metadata": {},
   "outputs": [],
   "source": [
    "#ANS:3"
   ]
  },
  {
   "cell_type": "code",
   "execution_count": 10,
   "id": "82515297-c523-4c09-b51c-bc9f12c3bd2d",
   "metadata": {},
   "outputs": [
    {
     "name": "stdout",
     "output_type": "stream",
     "text": [
      "2\n",
      "4\n",
      "6\n",
      "8\n",
      "10\n"
     ]
    }
   ],
   "source": [
    "#Use iterator methods to print the first five elements of the given list [2, 4, 6, 8, 10, 12, 14, 16, 18, 20]\n",
    "l=[2, 4, 6, 8, 10, 12, 14, 16, 18, 20]\n",
    "count=0\n",
    "for i in l:\n",
    "    if count<5:\n",
    "        print(i)\n",
    "        count+=1"
   ]
  },
  {
   "cell_type": "code",
   "execution_count": 11,
   "id": "66229e25-2a8a-45b3-81b7-90589f20f54f",
   "metadata": {},
   "outputs": [],
   "source": [
    "#ANS:4"
   ]
  },
  {
   "cell_type": "code",
   "execution_count": 12,
   "id": "94242369-3ee5-40a5-ae5e-b944346c91b8",
   "metadata": {},
   "outputs": [
    {
     "name": "stdout",
     "output_type": "stream",
     "text": [
      "0\n",
      "1\n",
      "1\n",
      "2\n",
      "3\n",
      "5\n",
      "8\n",
      "13\n",
      "21\n",
      "34\n"
     ]
    }
   ],
   "source": [
    "#the fibonacci series program using generator yield\n",
    "def fibonacci():\n",
    "    \"\"\"This function will generate fibonacci sequence\"\"\"\n",
    "    a, b = 0, 1\n",
    "    while True:\n",
    "        yield a\n",
    "        a, b = b, a + b\n",
    "\n",
    "fib = fibonacci()\n",
    "for i in range(10):\n",
    "    print(next(fib))"
   ]
  },
  {
   "cell_type": "code",
   "execution_count": 13,
   "id": "10e7cdae-4535-4d76-a678-e6466f8de10f",
   "metadata": {},
   "outputs": [],
   "source": [
    "#ANS:5"
   ]
  },
  {
   "cell_type": "code",
   "execution_count": 15,
   "id": "368dd50f-1728-4717-90e4-81200405975f",
   "metadata": {},
   "outputs": [
    {
     "name": "stdout",
     "output_type": "stream",
     "text": [
      "2\n",
      "3\n",
      "5\n",
      "7\n",
      "11\n",
      "13\n",
      "17\n",
      "19\n",
      "23\n",
      "29\n",
      "31\n",
      "37\n",
      "41\n",
      "43\n",
      "47\n",
      "53\n",
      "59\n",
      "61\n",
      "67\n",
      "71\n"
     ]
    }
   ],
   "source": [
    "#a generator function for prime numbers less than 1000. Use the next() method to print the first 20 prime numbers.\n",
    "def primes():\n",
    "    \"\"\"Create a generator function for prime numbers less than 1000.\"\"\"\n",
    "    yield 2\n",
    "    primes_list = [2]\n",
    "    for i in range(3, 1000):\n",
    "        is_prime = True\n",
    "        for prime in primes_list:\n",
    "            if i % prime == 0:\n",
    "                is_prime = False\n",
    "                break\n",
    "        if is_prime:\n",
    "            primes_list.append(i)\n",
    "            yield i\n",
    "\n",
    "prime_gen = primes()\n",
    "# the next() method to print the first 20 prime numbers.\n",
    "for i in range(20):\n",
    "    print(next(prime_gen))"
   ]
  },
  {
   "cell_type": "code",
   "execution_count": 16,
   "id": "201d4eb1-ac79-4d23-8f4c-fe083c0a035b",
   "metadata": {},
   "outputs": [],
   "source": [
    "#ANS:6"
   ]
  },
  {
   "cell_type": "code",
   "execution_count": 24,
   "id": "c9ee2d62-0839-4a29-afa4-28be51954b07",
   "metadata": {},
   "outputs": [
    {
     "name": "stdout",
     "output_type": "stream",
     "text": [
      "0\n",
      "1\n",
      "1\n",
      "2\n",
      "3\n",
      "5\n",
      "8\n",
      "13\n",
      "21\n",
      "34\n"
     ]
    }
   ],
   "source": [
    "#a python program to print the first 10 Fibonacci numbers using a while loop.\n",
    "def fibonacci(n):\n",
    "    \"\"\"This function will print fibonacci sequence\"\"\"\n",
    "    a, b = 0, 1\n",
    "    count = 0\n",
    "    while count < n:\n",
    "        print(a)\n",
    "        a, b = b, a + b\n",
    "        count += 1\n",
    "\n",
    "fibonacci(10)"
   ]
  },
  {
   "cell_type": "code",
   "execution_count": null,
   "id": "7b231113-1b6c-4c8f-a425-31747761ce27",
   "metadata": {},
   "outputs": [],
   "source": [
    "#ANS:7"
   ]
  },
  {
   "cell_type": "code",
   "execution_count": 25,
   "id": "e1009db2-2c31-4614-afe9-062c83bd8abb",
   "metadata": {},
   "outputs": [
    {
     "name": "stdout",
     "output_type": "stream",
     "text": [
      "['p', 'w', 's', 'k', 'i', 'l', 'l', 's']\n"
     ]
    }
   ],
   "source": [
    "#a List Comprehension to iterate through the given string: ‘pwskills’.\n",
    "string = 'pwskills'\n",
    "output = [char for char in string]\n",
    "print(output)"
   ]
  },
  {
   "cell_type": "code",
   "execution_count": 18,
   "id": "2a3875fc-778e-48b2-bf14-b54da8efd257",
   "metadata": {},
   "outputs": [],
   "source": [
    "#ANS:8"
   ]
  },
  {
   "cell_type": "code",
   "execution_count": 26,
   "id": "6335013c-6cfa-4400-95aa-2ca12b682cd6",
   "metadata": {},
   "outputs": [
    {
     "name": "stdin",
     "output_type": "stream",
     "text": [
      "Please give a number :  9\n"
     ]
    },
    {
     "name": "stdout",
     "output_type": "stream",
     "text": [
      "Given number is a palindrome\n"
     ]
    }
   ],
   "source": [
    "#a python program to check whether a given number is Palindrome or not using a while loop.\n",
    "n = int(input(\"Please give a number : \"))\n",
    "def reverse(num):\n",
    "    if num<10:\n",
    "      return num \n",
    "    else:\n",
    "      return int(str(num%10) + str(reverse(num//10)))\n",
    "def isPalindrome(num):\n",
    "    if num == reverse(num):\n",
    "        return 1\n",
    "    return 0\n",
    "if isPalindrome(n) == 1:\n",
    "    print(\"Given number is a palindrome\")\n",
    "else:\n",
    "    print(\"Given number is a not palindrome\") "
   ]
  },
  {
   "cell_type": "code",
   "execution_count": 20,
   "id": "eee17c32-7b83-48b4-adb0-65aeca072f14",
   "metadata": {},
   "outputs": [],
   "source": [
    "#ANS:9"
   ]
  },
  {
   "cell_type": "code",
   "execution_count": 28,
   "id": "6f569bac-70e8-416e-b68d-873520f07916",
   "metadata": {},
   "outputs": [
    {
     "data": {
      "text/plain": [
       "[1,\n",
       " 3,\n",
       " 5,\n",
       " 7,\n",
       " 9,\n",
       " 11,\n",
       " 13,\n",
       " 15,\n",
       " 17,\n",
       " 19,\n",
       " 21,\n",
       " 23,\n",
       " 25,\n",
       " 27,\n",
       " 29,\n",
       " 31,\n",
       " 33,\n",
       " 35,\n",
       " 37,\n",
       " 39,\n",
       " 41,\n",
       " 43,\n",
       " 45,\n",
       " 47,\n",
       " 49,\n",
       " 51,\n",
       " 53,\n",
       " 55,\n",
       " 57,\n",
       " 59,\n",
       " 61,\n",
       " 63,\n",
       " 65,\n",
       " 67,\n",
       " 69,\n",
       " 71,\n",
       " 73,\n",
       " 75,\n",
       " 77,\n",
       " 79,\n",
       " 81,\n",
       " 83,\n",
       " 85,\n",
       " 87,\n",
       " 89,\n",
       " 91,\n",
       " 93,\n",
       " 95,\n",
       " 97,\n",
       " 99]"
      ]
     },
     "execution_count": 28,
     "metadata": {},
     "output_type": "execute_result"
    }
   ],
   "source": [
    "#a code to print odd numbers from 1 to 100 using list comprehension.\n",
    "[odd for odd in range(1,100) if odd%2!=0]"
   ]
  },
  {
   "cell_type": "code",
   "execution_count": null,
   "id": "2bc27145-ed25-4898-b496-3a35698575e5",
   "metadata": {},
   "outputs": [],
   "source": []
  }
 ],
 "metadata": {
  "kernelspec": {
   "display_name": "Python 3 (ipykernel)",
   "language": "python",
   "name": "python3"
  },
  "language_info": {
   "codemirror_mode": {
    "name": "ipython",
    "version": 3
   },
   "file_extension": ".py",
   "mimetype": "text/x-python",
   "name": "python",
   "nbconvert_exporter": "python",
   "pygments_lexer": "ipython3",
   "version": "3.10.8"
  }
 },
 "nbformat": 4,
 "nbformat_minor": 5
}
